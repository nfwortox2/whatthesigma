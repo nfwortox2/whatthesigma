{
  "nbformat": 4,
  "nbformat_minor": 0,
  "metadata": {
    "colab": {
      "provenance": [],
      "include_colab_link": true
    },
    "kernelspec": {
      "name": "python3",
      "display_name": "Python 3"
    },
    "language_info": {
      "name": "python"
    }
  },
  "cells": [
    {
      "cell_type": "markdown",
      "metadata": {
        "id": "view-in-github",
        "colab_type": "text"
      },
      "source": [
        "<a href=\"https://colab.research.google.com/github/nfwortox2/whatthesigma/blob/main/assets/PokeGrinder.ipynb\" target=\"_parent\"><img src=\"https://colab.research.google.com/assets/colab-badge.svg\" alt=\"Open In Colab\"/></a>"
      ]
    },
    {
      "cell_type": "markdown",
      "source": [
        "### Clone the GitHub repository"
      ],
      "metadata": {
        "id": "S-bflJZTMmie"
      }
    },
    {
      "cell_type": "code",
      "execution_count": 1,
      "metadata": {
        "colab": {
          "base_uri": "https://localhost:8080/"
        },
        "id": "XpW0TJ34Lm_h",
        "outputId": "90600bfd-c160-4c76-e14f-bc9172f3182c"
      },
      "outputs": [
        {
          "output_type": "stream",
          "name": "stdout",
          "text": [
            "Cloning into 'PokeGrinder'...\n",
            "remote: Enumerating objects: 357, done.\u001b[K\n",
            "remote: Counting objects: 100% (143/143), done.\u001b[K\n",
            "remote: Compressing objects: 100% (82/82), done.\u001b[K\n",
            "remote: Total 357 (delta 97), reused 70 (delta 59), pack-reused 214 (from 1)\u001b[K\n",
            "Receiving objects: 100% (357/357), 5.51 MiB | 11.62 MiB/s, done.\n",
            "Resolving deltas: 100% (177/177), done.\n",
            "/content/PokeGrinder\n"
          ]
        }
      ],
      "source": [
        "!git clone https://github.com/MehulKhanna/PokeGrinder.git\n",
        "%cd PokeGrinder"
      ]
    },
    {
      "cell_type": "markdown",
      "source": [
        "### Install discord.py-self"
      ],
      "metadata": {
        "id": "eP1cdqmzM6E3"
      }
    },
    {
      "cell_type": "code",
      "source": [
        "%pip install git+https://github.com/dolfies/discord.py-self"
      ],
      "metadata": {
        "colab": {
          "base_uri": "https://localhost:8080/"
        },
        "id": "kwA_J_7NMwI4",
        "outputId": "f669c275-69f0-4ed5-9ec9-60705cdbb446"
      },
      "execution_count": 2,
      "outputs": [
        {
          "output_type": "stream",
          "name": "stdout",
          "text": [
            "Collecting git+https://github.com/dolfies/discord.py-self\n",
            "  Cloning https://github.com/dolfies/discord.py-self to /tmp/pip-req-build-3b9mfvpe\n",
            "  Running command git clone --filter=blob:none --quiet https://github.com/dolfies/discord.py-self /tmp/pip-req-build-3b9mfvpe\n",
            "  Resolved https://github.com/dolfies/discord.py-self to commit 58b6a6a2524db1285e35d1e5eabd65f4645e678b\n",
            "  Installing build dependencies ... \u001b[?25l\u001b[?25hdone\n",
            "  Getting requirements to build wheel ... \u001b[?25l\u001b[?25hdone\n",
            "  Preparing metadata (pyproject.toml) ... \u001b[?25l\u001b[?25hdone\n",
            "Requirement already satisfied: aiohttp<4,>=3.7.4 in /usr/local/lib/python3.11/dist-packages (from discord.py-self==2.1.0b5106+g58b6a6a2) (3.11.15)\n",
            "Collecting curl_cffi<1,>=0.9.0 (from discord.py-self==2.1.0b5106+g58b6a6a2)\n",
            "  Downloading curl_cffi-0.10.0-cp39-abi3-manylinux_2_17_x86_64.manylinux2014_x86_64.whl.metadata (12 kB)\n",
            "Requirement already satisfied: tzlocal<6,>=4.0.0 in /usr/local/lib/python3.11/dist-packages (from discord.py-self==2.1.0b5106+g58b6a6a2) (5.3.1)\n",
            "Collecting discord_protos<1.0.0 (from discord.py-self==2.1.0b5106+g58b6a6a2)\n",
            "  Downloading discord-protos-0.0.2.tar.gz (13 kB)\n",
            "  Installing build dependencies ... \u001b[?25l\u001b[?25hdone\n",
            "  Getting requirements to build wheel ... \u001b[?25l\u001b[?25hdone\n",
            "  Preparing metadata (pyproject.toml) ... \u001b[?25l\u001b[?25hdone\n",
            "Requirement already satisfied: aiohappyeyeballs>=2.3.0 in /usr/local/lib/python3.11/dist-packages (from aiohttp<4,>=3.7.4->discord.py-self==2.1.0b5106+g58b6a6a2) (2.6.1)\n",
            "Requirement already satisfied: aiosignal>=1.1.2 in /usr/local/lib/python3.11/dist-packages (from aiohttp<4,>=3.7.4->discord.py-self==2.1.0b5106+g58b6a6a2) (1.3.2)\n",
            "Requirement already satisfied: attrs>=17.3.0 in /usr/local/lib/python3.11/dist-packages (from aiohttp<4,>=3.7.4->discord.py-self==2.1.0b5106+g58b6a6a2) (25.3.0)\n",
            "Requirement already satisfied: frozenlist>=1.1.1 in /usr/local/lib/python3.11/dist-packages (from aiohttp<4,>=3.7.4->discord.py-self==2.1.0b5106+g58b6a6a2) (1.6.0)\n",
            "Requirement already satisfied: multidict<7.0,>=4.5 in /usr/local/lib/python3.11/dist-packages (from aiohttp<4,>=3.7.4->discord.py-self==2.1.0b5106+g58b6a6a2) (6.4.3)\n",
            "Requirement already satisfied: propcache>=0.2.0 in /usr/local/lib/python3.11/dist-packages (from aiohttp<4,>=3.7.4->discord.py-self==2.1.0b5106+g58b6a6a2) (0.3.1)\n",
            "Requirement already satisfied: yarl<2.0,>=1.17.0 in /usr/local/lib/python3.11/dist-packages (from aiohttp<4,>=3.7.4->discord.py-self==2.1.0b5106+g58b6a6a2) (1.20.0)\n",
            "Requirement already satisfied: cffi>=1.12.0 in /usr/local/lib/python3.11/dist-packages (from curl_cffi<1,>=0.9.0->discord.py-self==2.1.0b5106+g58b6a6a2) (1.17.1)\n",
            "Requirement already satisfied: certifi>=2024.2.2 in /usr/local/lib/python3.11/dist-packages (from curl_cffi<1,>=0.9.0->discord.py-self==2.1.0b5106+g58b6a6a2) (2025.4.26)\n",
            "Requirement already satisfied: protobuf in /usr/local/lib/python3.11/dist-packages (from discord_protos<1.0.0->discord.py-self==2.1.0b5106+g58b6a6a2) (5.29.4)\n",
            "Requirement already satisfied: pycparser in /usr/local/lib/python3.11/dist-packages (from cffi>=1.12.0->curl_cffi<1,>=0.9.0->discord.py-self==2.1.0b5106+g58b6a6a2) (2.22)\n",
            "Requirement already satisfied: idna>=2.0 in /usr/local/lib/python3.11/dist-packages (from yarl<2.0,>=1.17.0->aiohttp<4,>=3.7.4->discord.py-self==2.1.0b5106+g58b6a6a2) (3.10)\n",
            "Downloading curl_cffi-0.10.0-cp39-abi3-manylinux_2_17_x86_64.manylinux2014_x86_64.whl (7.4 MB)\n",
            "\u001b[2K   \u001b[90m━━━━━━━━━━━━━━━━━━━━━━━━━━━━━━━━━━━━━━━━\u001b[0m \u001b[32m7.4/7.4 MB\u001b[0m \u001b[31m65.8 MB/s\u001b[0m eta \u001b[36m0:00:00\u001b[0m\n",
            "\u001b[?25hBuilding wheels for collected packages: discord.py-self, discord_protos\n",
            "  Building wheel for discord.py-self (pyproject.toml) ... \u001b[?25l\u001b[?25hdone\n",
            "  Created wheel for discord.py-self: filename=discord_py_self-2.1.0b5106+g58b6a6a2-py3-none-any.whl size=1252019 sha256=5a3dfb44008d4cf305070d7f7f0db505d0de87ff9fac186d9916eadfc253f2bc\n",
            "  Stored in directory: /tmp/pip-ephem-wheel-cache-1iozd14e/wheels/05/21/4e/1d814f89efb7772273e1e5b305d0f01e931cfb78ceebce461b\n",
            "  Building wheel for discord_protos (pyproject.toml) ... \u001b[?25l\u001b[?25hdone\n",
            "  Created wheel for discord_protos: filename=discord_protos-0.0.2-py3-none-any.whl size=14045 sha256=1090210f16bc385bc8402ad69d153892cf66148afd1e1343b58cdfef528b43ed\n",
            "  Stored in directory: /root/.cache/pip/wheels/7b/6d/00/883c299f98ea46d8a7b71f50904faeec52941f930530351c00\n",
            "Successfully built discord.py-self discord_protos\n",
            "Installing collected packages: discord_protos, curl_cffi, discord.py-self\n",
            "Successfully installed curl_cffi-0.10.0 discord.py-self-2.1.0b5106+g58b6a6a2 discord_protos-0.0.2\n"
          ]
        }
      ]
    },
    {
      "cell_type": "markdown",
      "source": [
        "### Install requirements"
      ],
      "metadata": {
        "id": "sLd8UlBRM9iJ"
      }
    },
    {
      "cell_type": "code",
      "source": [
        "!python -m pip install -r requirements.txt"
      ],
      "metadata": {
        "id": "vSlUM2O7M1nV"
      },
      "execution_count": null,
      "outputs": []
    },
    {
      "cell_type": "markdown",
      "source": [
        "# Now edit your config\n",
        "Please increase HuntingCooldown, FishingCooldown and RetryCooldown by a few hundred milliseconds to avoid \"Please wait\" messages.\n",
        "\n",
        "For example,\n",
        "Change \"HuntingCooldown\": 8.4 to \"HuntingCooldown\": 8.9"
      ],
      "metadata": {
        "id": "mAI5SVRPNrNy"
      }
    },
    {
      "cell_type": "markdown",
      "source": [
        "# Run PokeGrinder"
      ],
      "metadata": {
        "collapsed": false,
        "id": "LT_RGjlXWJ8O"
      }
    },
    {
      "cell_type": "code",
      "source": [
        "!python main.py"
      ],
      "metadata": {
        "id": "IYQ6coDDNo0Z"
      },
      "execution_count": null,
      "outputs": []
    }
  ]
}